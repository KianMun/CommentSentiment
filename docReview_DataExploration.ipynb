{
 "cells": [
  {
   "cell_type": "markdown",
   "metadata": {},
   "source": [
    "## England NHS GP Reviews Dataset Exploration\n",
    "source: https://huggingface.co/datasets/janduplessis886/england-nhs-gp-reviews/viewer/default/train"
   ]
  },
  {
   "cell_type": "code",
   "execution_count": 1,
   "metadata": {},
   "outputs": [
    {
     "data": {
      "text/html": [
       "<div>\n",
       "<style scoped>\n",
       "    .dataframe tbody tr th:only-of-type {\n",
       "        vertical-align: middle;\n",
       "    }\n",
       "\n",
       "    .dataframe tbody tr th {\n",
       "        vertical-align: top;\n",
       "    }\n",
       "\n",
       "    .dataframe thead th {\n",
       "        text-align: right;\n",
       "    }\n",
       "</style>\n",
       "<table border=\"1\" class=\"dataframe\">\n",
       "  <thead>\n",
       "    <tr style=\"text-align: right;\">\n",
       "      <th></th>\n",
       "      <th>ode</th>\n",
       "      <th>surgeryname</th>\n",
       "      <th>url</th>\n",
       "      <th>title</th>\n",
       "      <th>star_rating</th>\n",
       "      <th>comment</th>\n",
       "      <th>visited_date</th>\n",
       "    </tr>\n",
       "  </thead>\n",
       "  <tbody>\n",
       "    <tr>\n",
       "      <th>0</th>\n",
       "      <td>E81050</td>\n",
       "      <td>asplands-medical-centre</td>\n",
       "      <td>https://www.nhs.uk/services/gp-surgery/aspland...</td>\n",
       "      <td>What's changed?</td>\n",
       "      <td>3</td>\n",
       "      <td>Have been with this practice for a number of y...</td>\n",
       "      <td>August 2022</td>\n",
       "    </tr>\n",
       "    <tr>\n",
       "      <th>1</th>\n",
       "      <td>E81050</td>\n",
       "      <td>asplands-medical-centre</td>\n",
       "      <td>https://www.nhs.uk/services/gp-surgery/aspland...</td>\n",
       "      <td>Woburn surgery</td>\n",
       "      <td>5</td>\n",
       "      <td>I have been a patient at this practice for man...</td>\n",
       "      <td>July 2022</td>\n",
       "    </tr>\n",
       "    <tr>\n",
       "      <th>2</th>\n",
       "      <td>E81050</td>\n",
       "      <td>asplands-medical-centre</td>\n",
       "      <td>https://www.nhs.uk/services/gp-surgery/aspland...</td>\n",
       "      <td>Don't waste your time GPs never available</td>\n",
       "      <td>1</td>\n",
       "      <td>Visited my gp, over resistant hypertension. Gr...</td>\n",
       "      <td>June 2022</td>\n",
       "    </tr>\n",
       "    <tr>\n",
       "      <th>3</th>\n",
       "      <td>E81050</td>\n",
       "      <td>asplands-medical-centre</td>\n",
       "      <td>https://www.nhs.uk/services/gp-surgery/aspland...</td>\n",
       "      <td>Great practice</td>\n",
       "      <td>5</td>\n",
       "      <td>I contacted the surgery by telephone for a non...</td>\n",
       "      <td>June 2022</td>\n",
       "    </tr>\n",
       "    <tr>\n",
       "      <th>4</th>\n",
       "      <td>K82064</td>\n",
       "      <td>fishermead-medical-centre</td>\n",
       "      <td>https://www.nhs.uk/services/gp-surgery/fisherm...</td>\n",
       "      <td>Welcoming and supportive</td>\n",
       "      <td>5</td>\n",
       "      <td>I have great respect for the staff at Fisherme...</td>\n",
       "      <td>July 2023</td>\n",
       "    </tr>\n",
       "  </tbody>\n",
       "</table>\n",
       "</div>"
      ],
      "text/plain": [
       "      ode                surgeryname  \\\n",
       "0  E81050    asplands-medical-centre   \n",
       "1  E81050    asplands-medical-centre   \n",
       "2  E81050    asplands-medical-centre   \n",
       "3  E81050    asplands-medical-centre   \n",
       "4  K82064  fishermead-medical-centre   \n",
       "\n",
       "                                                 url  \\\n",
       "0  https://www.nhs.uk/services/gp-surgery/aspland...   \n",
       "1  https://www.nhs.uk/services/gp-surgery/aspland...   \n",
       "2  https://www.nhs.uk/services/gp-surgery/aspland...   \n",
       "3  https://www.nhs.uk/services/gp-surgery/aspland...   \n",
       "4  https://www.nhs.uk/services/gp-surgery/fisherm...   \n",
       "\n",
       "                                       title  star_rating  \\\n",
       "0                            What's changed?            3   \n",
       "1                             Woburn surgery            5   \n",
       "2  Don't waste your time GPs never available            1   \n",
       "3                             Great practice            5   \n",
       "4                   Welcoming and supportive            5   \n",
       "\n",
       "                                             comment visited_date  \n",
       "0  Have been with this practice for a number of y...  August 2022  \n",
       "1  I have been a patient at this practice for man...    July 2022  \n",
       "2  Visited my gp, over resistant hypertension. Gr...    June 2022  \n",
       "3  I contacted the surgery by telephone for a non...    June 2022  \n",
       "4  I have great respect for the staff at Fisherme...    July 2023  "
      ]
     },
     "execution_count": 1,
     "metadata": {},
     "output_type": "execute_result"
    }
   ],
   "source": [
    "import pandas as pd\n",
    "\n",
    "df = pd.read_csv('england-nhs-gp-reviews.csv')\n",
    "\n",
    "df.head()"
   ]
  },
  {
   "cell_type": "code",
   "execution_count": 2,
   "metadata": {},
   "outputs": [
    {
     "data": {
      "text/plain": [
       "(61955, 7)"
      ]
     },
     "execution_count": 2,
     "metadata": {},
     "output_type": "execute_result"
    }
   ],
   "source": [
    "df.shape"
   ]
  },
  {
   "cell_type": "code",
   "execution_count": 3,
   "metadata": {},
   "outputs": [
    {
     "name": "stdout",
     "output_type": "stream",
     "text": [
      "<class 'pandas.core.frame.DataFrame'>\n",
      "RangeIndex: 61955 entries, 0 to 61954\n",
      "Data columns (total 7 columns):\n",
      " #   Column        Non-Null Count  Dtype \n",
      "---  ------        --------------  ----- \n",
      " 0   ode           61955 non-null  object\n",
      " 1   surgeryname   61955 non-null  object\n",
      " 2   url           61955 non-null  object\n",
      " 3   title         61955 non-null  object\n",
      " 4   star_rating   61955 non-null  int64 \n",
      " 5   comment       61955 non-null  object\n",
      " 6   visited_date  61955 non-null  object\n",
      "dtypes: int64(1), object(6)\n",
      "memory usage: 3.3+ MB\n"
     ]
    }
   ],
   "source": [
    "df.info()"
   ]
  },
  {
   "cell_type": "code",
   "execution_count": 4,
   "metadata": {},
   "outputs": [
    {
     "data": {
      "text/html": [
       "<div>\n",
       "<style scoped>\n",
       "    .dataframe tbody tr th:only-of-type {\n",
       "        vertical-align: middle;\n",
       "    }\n",
       "\n",
       "    .dataframe tbody tr th {\n",
       "        vertical-align: top;\n",
       "    }\n",
       "\n",
       "    .dataframe thead th {\n",
       "        text-align: right;\n",
       "    }\n",
       "</style>\n",
       "<table border=\"1\" class=\"dataframe\">\n",
       "  <thead>\n",
       "    <tr style=\"text-align: right;\">\n",
       "      <th></th>\n",
       "      <th>star_rating</th>\n",
       "    </tr>\n",
       "  </thead>\n",
       "  <tbody>\n",
       "    <tr>\n",
       "      <th>count</th>\n",
       "      <td>61955.000000</td>\n",
       "    </tr>\n",
       "    <tr>\n",
       "      <th>mean</th>\n",
       "      <td>3.337632</td>\n",
       "    </tr>\n",
       "    <tr>\n",
       "      <th>std</th>\n",
       "      <td>1.795162</td>\n",
       "    </tr>\n",
       "    <tr>\n",
       "      <th>min</th>\n",
       "      <td>0.000000</td>\n",
       "    </tr>\n",
       "    <tr>\n",
       "      <th>25%</th>\n",
       "      <td>1.000000</td>\n",
       "    </tr>\n",
       "    <tr>\n",
       "      <th>50%</th>\n",
       "      <td>4.000000</td>\n",
       "    </tr>\n",
       "    <tr>\n",
       "      <th>75%</th>\n",
       "      <td>5.000000</td>\n",
       "    </tr>\n",
       "    <tr>\n",
       "      <th>max</th>\n",
       "      <td>5.000000</td>\n",
       "    </tr>\n",
       "  </tbody>\n",
       "</table>\n",
       "</div>"
      ],
      "text/plain": [
       "        star_rating\n",
       "count  61955.000000\n",
       "mean       3.337632\n",
       "std        1.795162\n",
       "min        0.000000\n",
       "25%        1.000000\n",
       "50%        4.000000\n",
       "75%        5.000000\n",
       "max        5.000000"
      ]
     },
     "execution_count": 4,
     "metadata": {},
     "output_type": "execute_result"
    }
   ],
   "source": [
    "df.describe()"
   ]
  },
  {
   "cell_type": "code",
   "execution_count": 5,
   "metadata": {},
   "outputs": [
    {
     "data": {
      "text/plain": [
       "count    61955.000000\n",
       "mean         3.337632\n",
       "std          1.795162\n",
       "min          0.000000\n",
       "25%          1.000000\n",
       "50%          4.000000\n",
       "75%          5.000000\n",
       "max          5.000000\n",
       "Name: star_rating, dtype: float64"
      ]
     },
     "execution_count": 5,
     "metadata": {},
     "output_type": "execute_result"
    }
   ],
   "source": [
    "df.star_rating.describe()"
   ]
  }
 ],
 "metadata": {
  "kernelspec": {
   "display_name": "Python 3",
   "language": "python",
   "name": "python3"
  },
  "language_info": {
   "codemirror_mode": {
    "name": "ipython",
    "version": 3
   },
   "file_extension": ".py",
   "mimetype": "text/x-python",
   "name": "python",
   "nbconvert_exporter": "python",
   "pygments_lexer": "ipython3",
   "version": "3.9.18"
  }
 },
 "nbformat": 4,
 "nbformat_minor": 2
}
