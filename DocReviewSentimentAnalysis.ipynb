{
 "cells": [
  {
   "cell_type": "markdown",
   "metadata": {},
   "source": [
    "##  England NHS GP Reviews Sentiment Analysis\n",
    "source: https://huggingface.co/datasets/janduplessis886/england-nhs-gp-reviews/viewer/default/train"
   ]
  },
  {
   "cell_type": "code",
   "execution_count": 2,
   "metadata": {},
   "outputs": [
    {
     "data": {
      "text/html": [
       "<div>\n",
       "<style scoped>\n",
       "    .dataframe tbody tr th:only-of-type {\n",
       "        vertical-align: middle;\n",
       "    }\n",
       "\n",
       "    .dataframe tbody tr th {\n",
       "        vertical-align: top;\n",
       "    }\n",
       "\n",
       "    .dataframe thead th {\n",
       "        text-align: right;\n",
       "    }\n",
       "</style>\n",
       "<table border=\"1\" class=\"dataframe\">\n",
       "  <thead>\n",
       "    <tr style=\"text-align: right;\">\n",
       "      <th></th>\n",
       "      <th>ode</th>\n",
       "      <th>surgeryname</th>\n",
       "      <th>url</th>\n",
       "      <th>title</th>\n",
       "      <th>star_rating</th>\n",
       "      <th>comment</th>\n",
       "      <th>visited_date</th>\n",
       "    </tr>\n",
       "  </thead>\n",
       "  <tbody>\n",
       "    <tr>\n",
       "      <th>0</th>\n",
       "      <td>E81050</td>\n",
       "      <td>asplands-medical-centre</td>\n",
       "      <td>https://www.nhs.uk/services/gp-surgery/aspland...</td>\n",
       "      <td>What's changed?</td>\n",
       "      <td>3</td>\n",
       "      <td>Have been with this practice for a number of y...</td>\n",
       "      <td>August 2022</td>\n",
       "    </tr>\n",
       "    <tr>\n",
       "      <th>1</th>\n",
       "      <td>E81050</td>\n",
       "      <td>asplands-medical-centre</td>\n",
       "      <td>https://www.nhs.uk/services/gp-surgery/aspland...</td>\n",
       "      <td>Woburn surgery</td>\n",
       "      <td>5</td>\n",
       "      <td>I have been a patient at this practice for man...</td>\n",
       "      <td>July 2022</td>\n",
       "    </tr>\n",
       "    <tr>\n",
       "      <th>2</th>\n",
       "      <td>E81050</td>\n",
       "      <td>asplands-medical-centre</td>\n",
       "      <td>https://www.nhs.uk/services/gp-surgery/aspland...</td>\n",
       "      <td>Don't waste your time GPs never available</td>\n",
       "      <td>1</td>\n",
       "      <td>Visited my gp, over resistant hypertension. Gr...</td>\n",
       "      <td>June 2022</td>\n",
       "    </tr>\n",
       "    <tr>\n",
       "      <th>3</th>\n",
       "      <td>E81050</td>\n",
       "      <td>asplands-medical-centre</td>\n",
       "      <td>https://www.nhs.uk/services/gp-surgery/aspland...</td>\n",
       "      <td>Great practice</td>\n",
       "      <td>5</td>\n",
       "      <td>I contacted the surgery by telephone for a non...</td>\n",
       "      <td>June 2022</td>\n",
       "    </tr>\n",
       "    <tr>\n",
       "      <th>4</th>\n",
       "      <td>K82064</td>\n",
       "      <td>fishermead-medical-centre</td>\n",
       "      <td>https://www.nhs.uk/services/gp-surgery/fisherm...</td>\n",
       "      <td>Welcoming and supportive</td>\n",
       "      <td>5</td>\n",
       "      <td>I have great respect for the staff at Fisherme...</td>\n",
       "      <td>July 2023</td>\n",
       "    </tr>\n",
       "  </tbody>\n",
       "</table>\n",
       "</div>"
      ],
      "text/plain": [
       "      ode                surgeryname  \\\n",
       "0  E81050    asplands-medical-centre   \n",
       "1  E81050    asplands-medical-centre   \n",
       "2  E81050    asplands-medical-centre   \n",
       "3  E81050    asplands-medical-centre   \n",
       "4  K82064  fishermead-medical-centre   \n",
       "\n",
       "                                                 url  \\\n",
       "0  https://www.nhs.uk/services/gp-surgery/aspland...   \n",
       "1  https://www.nhs.uk/services/gp-surgery/aspland...   \n",
       "2  https://www.nhs.uk/services/gp-surgery/aspland...   \n",
       "3  https://www.nhs.uk/services/gp-surgery/aspland...   \n",
       "4  https://www.nhs.uk/services/gp-surgery/fisherm...   \n",
       "\n",
       "                                       title  star_rating  \\\n",
       "0                            What's changed?            3   \n",
       "1                             Woburn surgery            5   \n",
       "2  Don't waste your time GPs never available            1   \n",
       "3                             Great practice            5   \n",
       "4                   Welcoming and supportive            5   \n",
       "\n",
       "                                             comment visited_date  \n",
       "0  Have been with this practice for a number of y...  August 2022  \n",
       "1  I have been a patient at this practice for man...    July 2022  \n",
       "2  Visited my gp, over resistant hypertension. Gr...    June 2022  \n",
       "3  I contacted the surgery by telephone for a non...    June 2022  \n",
       "4  I have great respect for the staff at Fisherme...    July 2023  "
      ]
     },
     "execution_count": 2,
     "metadata": {},
     "output_type": "execute_result"
    }
   ],
   "source": [
    "import pandas as pd\n",
    "\n",
    "df = pd.read_csv('england-nhs-gp-reviews.csv')\n",
    "df.head()"
   ]
  },
  {
   "cell_type": "code",
   "execution_count": 2,
   "metadata": {},
   "outputs": [
    {
     "name": "stdout",
     "output_type": "stream",
     "text": [
      "Number of rows:  61955 \n",
      "Number of Columns:  7\n"
     ]
    }
   ],
   "source": [
    "print(\"Number of rows: \", df.shape[0],\"\\nNumber of Columns: \", df.shape[1])"
   ]
  },
  {
   "cell_type": "markdown",
   "metadata": {},
   "source": [
    "#### Check for missing data"
   ]
  },
  {
   "cell_type": "code",
   "execution_count": 3,
   "metadata": {},
   "outputs": [
    {
     "name": "stdout",
     "output_type": "stream",
     "text": [
      "<class 'pandas.core.frame.DataFrame'>\n",
      "RangeIndex: 61955 entries, 0 to 61954\n",
      "Data columns (total 7 columns):\n",
      " #   Column        Non-Null Count  Dtype \n",
      "---  ------        --------------  ----- \n",
      " 0   ode           61955 non-null  object\n",
      " 1   surgeryname   61955 non-null  object\n",
      " 2   url           61955 non-null  object\n",
      " 3   title         61955 non-null  object\n",
      " 4   star_rating   61955 non-null  int64 \n",
      " 5   comment       61955 non-null  object\n",
      " 6   visited_date  61955 non-null  object\n",
      "dtypes: int64(1), object(6)\n",
      "memory usage: 3.3+ MB\n"
     ]
    }
   ],
   "source": [
    "df.info()"
   ]
  },
  {
   "cell_type": "markdown",
   "metadata": {},
   "source": [
    "No missing data as all 61955 rows are non-null for all columns"
   ]
  },
  {
   "cell_type": "markdown",
   "metadata": {},
   "source": [
    "### Map Ratings to binary sentiment labels (Positive: 1, Neutral: 0, Negative: -1)"
   ]
  },
  {
   "cell_type": "code",
   "execution_count": 4,
   "metadata": {},
   "outputs": [
    {
     "data": {
      "text/html": [
       "<div>\n",
       "<style scoped>\n",
       "    .dataframe tbody tr th:only-of-type {\n",
       "        vertical-align: middle;\n",
       "    }\n",
       "\n",
       "    .dataframe tbody tr th {\n",
       "        vertical-align: top;\n",
       "    }\n",
       "\n",
       "    .dataframe thead th {\n",
       "        text-align: right;\n",
       "    }\n",
       "</style>\n",
       "<table border=\"1\" class=\"dataframe\">\n",
       "  <thead>\n",
       "    <tr style=\"text-align: right;\">\n",
       "      <th></th>\n",
       "      <th>ode</th>\n",
       "      <th>surgeryname</th>\n",
       "      <th>url</th>\n",
       "      <th>title</th>\n",
       "      <th>star_rating</th>\n",
       "      <th>comment</th>\n",
       "      <th>visited_date</th>\n",
       "      <th>sentiment</th>\n",
       "    </tr>\n",
       "  </thead>\n",
       "  <tbody>\n",
       "    <tr>\n",
       "      <th>0</th>\n",
       "      <td>E81050</td>\n",
       "      <td>asplands-medical-centre</td>\n",
       "      <td>https://www.nhs.uk/services/gp-surgery/aspland...</td>\n",
       "      <td>What's changed?</td>\n",
       "      <td>3</td>\n",
       "      <td>Have been with this practice for a number of y...</td>\n",
       "      <td>August 2022</td>\n",
       "      <td>0</td>\n",
       "    </tr>\n",
       "    <tr>\n",
       "      <th>1</th>\n",
       "      <td>E81050</td>\n",
       "      <td>asplands-medical-centre</td>\n",
       "      <td>https://www.nhs.uk/services/gp-surgery/aspland...</td>\n",
       "      <td>Woburn surgery</td>\n",
       "      <td>5</td>\n",
       "      <td>I have been a patient at this practice for man...</td>\n",
       "      <td>July 2022</td>\n",
       "      <td>1</td>\n",
       "    </tr>\n",
       "    <tr>\n",
       "      <th>2</th>\n",
       "      <td>E81050</td>\n",
       "      <td>asplands-medical-centre</td>\n",
       "      <td>https://www.nhs.uk/services/gp-surgery/aspland...</td>\n",
       "      <td>Don't waste your time GPs never available</td>\n",
       "      <td>1</td>\n",
       "      <td>Visited my gp, over resistant hypertension. Gr...</td>\n",
       "      <td>June 2022</td>\n",
       "      <td>-1</td>\n",
       "    </tr>\n",
       "    <tr>\n",
       "      <th>3</th>\n",
       "      <td>E81050</td>\n",
       "      <td>asplands-medical-centre</td>\n",
       "      <td>https://www.nhs.uk/services/gp-surgery/aspland...</td>\n",
       "      <td>Great practice</td>\n",
       "      <td>5</td>\n",
       "      <td>I contacted the surgery by telephone for a non...</td>\n",
       "      <td>June 2022</td>\n",
       "      <td>1</td>\n",
       "    </tr>\n",
       "    <tr>\n",
       "      <th>4</th>\n",
       "      <td>K82064</td>\n",
       "      <td>fishermead-medical-centre</td>\n",
       "      <td>https://www.nhs.uk/services/gp-surgery/fisherm...</td>\n",
       "      <td>Welcoming and supportive</td>\n",
       "      <td>5</td>\n",
       "      <td>I have great respect for the staff at Fisherme...</td>\n",
       "      <td>July 2023</td>\n",
       "      <td>1</td>\n",
       "    </tr>\n",
       "    <tr>\n",
       "      <th>5</th>\n",
       "      <td>K82064</td>\n",
       "      <td>fishermead-medical-centre</td>\n",
       "      <td>https://www.nhs.uk/services/gp-surgery/fisherm...</td>\n",
       "      <td>Selective service</td>\n",
       "      <td>1</td>\n",
       "      <td>when I tried to register to go on doctors list...</td>\n",
       "      <td>October 2022</td>\n",
       "      <td>-1</td>\n",
       "    </tr>\n",
       "    <tr>\n",
       "      <th>6</th>\n",
       "      <td>K82615</td>\n",
       "      <td>walnut-tree-health-centre</td>\n",
       "      <td>https://www.nhs.uk/services/gp-surgery/walnut-...</td>\n",
       "      <td>Rude staff and no GP appointments ever available</td>\n",
       "      <td>1</td>\n",
       "      <td>Staff are rude and talk over you. Cant get an ...</td>\n",
       "      <td>July 2023</td>\n",
       "      <td>-1</td>\n",
       "    </tr>\n",
       "    <tr>\n",
       "      <th>7</th>\n",
       "      <td>K82615</td>\n",
       "      <td>walnut-tree-health-centre</td>\n",
       "      <td>https://www.nhs.uk/services/gp-surgery/walnut-...</td>\n",
       "      <td>Thank you</td>\n",
       "      <td>3</td>\n",
       "      <td>I have been in contact with two members of sta...</td>\n",
       "      <td>July 2023</td>\n",
       "      <td>0</td>\n",
       "    </tr>\n",
       "    <tr>\n",
       "      <th>8</th>\n",
       "      <td>K82615</td>\n",
       "      <td>walnut-tree-health-centre</td>\n",
       "      <td>https://www.nhs.uk/services/gp-surgery/walnut-...</td>\n",
       "      <td>unprofessional staff</td>\n",
       "      <td>1</td>\n",
       "      <td>I have been ringing for 2 days trying to sort ...</td>\n",
       "      <td>June 2023</td>\n",
       "      <td>-1</td>\n",
       "    </tr>\n",
       "    <tr>\n",
       "      <th>9</th>\n",
       "      <td>K82615</td>\n",
       "      <td>walnut-tree-health-centre</td>\n",
       "      <td>https://www.nhs.uk/services/gp-surgery/walnut-...</td>\n",
       "      <td>This practice is failing</td>\n",
       "      <td>1</td>\n",
       "      <td>Queued outside practice from 7:30 to be told a...</td>\n",
       "      <td>April 2023</td>\n",
       "      <td>-1</td>\n",
       "    </tr>\n",
       "  </tbody>\n",
       "</table>\n",
       "</div>"
      ],
      "text/plain": [
       "      ode                surgeryname  \\\n",
       "0  E81050    asplands-medical-centre   \n",
       "1  E81050    asplands-medical-centre   \n",
       "2  E81050    asplands-medical-centre   \n",
       "3  E81050    asplands-medical-centre   \n",
       "4  K82064  fishermead-medical-centre   \n",
       "5  K82064  fishermead-medical-centre   \n",
       "6  K82615  walnut-tree-health-centre   \n",
       "7  K82615  walnut-tree-health-centre   \n",
       "8  K82615  walnut-tree-health-centre   \n",
       "9  K82615  walnut-tree-health-centre   \n",
       "\n",
       "                                                 url  \\\n",
       "0  https://www.nhs.uk/services/gp-surgery/aspland...   \n",
       "1  https://www.nhs.uk/services/gp-surgery/aspland...   \n",
       "2  https://www.nhs.uk/services/gp-surgery/aspland...   \n",
       "3  https://www.nhs.uk/services/gp-surgery/aspland...   \n",
       "4  https://www.nhs.uk/services/gp-surgery/fisherm...   \n",
       "5  https://www.nhs.uk/services/gp-surgery/fisherm...   \n",
       "6  https://www.nhs.uk/services/gp-surgery/walnut-...   \n",
       "7  https://www.nhs.uk/services/gp-surgery/walnut-...   \n",
       "8  https://www.nhs.uk/services/gp-surgery/walnut-...   \n",
       "9  https://www.nhs.uk/services/gp-surgery/walnut-...   \n",
       "\n",
       "                                              title  star_rating  \\\n",
       "0                                   What's changed?            3   \n",
       "1                                    Woburn surgery            5   \n",
       "2         Don't waste your time GPs never available            1   \n",
       "3                                    Great practice            5   \n",
       "4                          Welcoming and supportive            5   \n",
       "5                                 Selective service            1   \n",
       "6  Rude staff and no GP appointments ever available            1   \n",
       "7                                         Thank you            3   \n",
       "8                              unprofessional staff            1   \n",
       "9                          This practice is failing            1   \n",
       "\n",
       "                                             comment  visited_date  sentiment  \n",
       "0  Have been with this practice for a number of y...   August 2022          0  \n",
       "1  I have been a patient at this practice for man...     July 2022          1  \n",
       "2  Visited my gp, over resistant hypertension. Gr...     June 2022         -1  \n",
       "3  I contacted the surgery by telephone for a non...     June 2022          1  \n",
       "4  I have great respect for the staff at Fisherme...     July 2023          1  \n",
       "5  when I tried to register to go on doctors list...  October 2022         -1  \n",
       "6  Staff are rude and talk over you. Cant get an ...     July 2023         -1  \n",
       "7  I have been in contact with two members of sta...     July 2023          0  \n",
       "8  I have been ringing for 2 days trying to sort ...     June 2023         -1  \n",
       "9  Queued outside practice from 7:30 to be told a...    April 2023         -1  "
      ]
     },
     "execution_count": 4,
     "metadata": {},
     "output_type": "execute_result"
    }
   ],
   "source": [
    "df['sentiment'] = df['star_rating'].apply(lambda x: 1 if x > 3 else 0 if x == 3 else -1)\n",
    "df.head(10)"
   ]
  },
  {
   "cell_type": "markdown",
   "metadata": {},
   "source": [
    "#### Check value counts of each sentiment"
   ]
  },
  {
   "cell_type": "code",
   "execution_count": 5,
   "metadata": {},
   "outputs": [
    {
     "data": {
      "text/plain": [
       "sentiment\n",
       " 1    34748\n",
       "-1    23921\n",
       " 0     3286\n",
       "Name: count, dtype: int64"
      ]
     },
     "execution_count": 5,
     "metadata": {},
     "output_type": "execute_result"
    }
   ],
   "source": [
    "df['sentiment'].value_counts()"
   ]
  },
  {
   "cell_type": "markdown",
   "metadata": {},
   "source": [
    "3286 (5.3%) of comments are rated as 3 (O encoded). May drop this, dependend on how the model performs"
   ]
  },
  {
   "cell_type": "markdown",
   "metadata": {},
   "source": [
    "### Features and Labels"
   ]
  },
  {
   "cell_type": "code",
   "execution_count": 6,
   "metadata": {},
   "outputs": [],
   "source": [
    "features = df['comment']\n",
    "labels = df['sentiment']"
   ]
  },
  {
   "cell_type": "code",
   "execution_count": 7,
   "metadata": {},
   "outputs": [
    {
     "data": {
      "text/plain": [
       "0    Have been with this practice for a number of y...\n",
       "1    I have been a patient at this practice for man...\n",
       "2    Visited my gp, over resistant hypertension. Gr...\n",
       "3    I contacted the surgery by telephone for a non...\n",
       "4    I have great respect for the staff at Fisherme...\n",
       "Name: comment, dtype: object"
      ]
     },
     "execution_count": 7,
     "metadata": {},
     "output_type": "execute_result"
    }
   ],
   "source": [
    "features.head()"
   ]
  },
  {
   "cell_type": "code",
   "execution_count": 8,
   "metadata": {},
   "outputs": [
    {
     "data": {
      "text/plain": [
       "0    0\n",
       "1    1\n",
       "2   -1\n",
       "3    1\n",
       "4    1\n",
       "Name: sentiment, dtype: int64"
      ]
     },
     "execution_count": 8,
     "metadata": {},
     "output_type": "execute_result"
    }
   ],
   "source": [
    "labels.head()"
   ]
  },
  {
   "cell_type": "markdown",
   "metadata": {},
   "source": [
    "### WordNetLemmatizer function"
   ]
  },
  {
   "cell_type": "code",
   "execution_count": 3,
   "metadata": {},
   "outputs": [
    {
     "name": "stderr",
     "output_type": "stream",
     "text": [
      "[nltk_data] Downloading package stopwords to\n",
      "[nltk_data]     C:\\Users\\kianm\\AppData\\Roaming\\nltk_data...\n",
      "[nltk_data]   Package stopwords is already up-to-date!\n",
      "[nltk_data] Downloading package wordnet to\n",
      "[nltk_data]     C:\\Users\\kianm\\AppData\\Roaming\\nltk_data...\n",
      "[nltk_data]   Package wordnet is already up-to-date!\n"
     ]
    }
   ],
   "source": [
    "import nltk\n",
    "nltk.download('stopwords')\n",
    "nltk.download('wordnet')\n",
    "\n",
    "import string\n",
    "\n",
    "from nltk.stem import WordNetLemmatizer\n",
    "from nltk.corpus import stopwords\n",
    "from nltk import word_tokenize\n",
    "\n",
    "def lemmatizer(text):\n",
    "    lemmatizer = WordNetLemmatizer()\n",
    "    stopWords = stopwords.words('english')\n",
    "    #Tokenize\n",
    "    tokens = word_tokenize(text)\n",
    "    #Lemmatize\n",
    "    lemmaToken = [lemmatizer.lemmatize(token.lower()) for token in tokens if token.lower() not in stopWords]\n",
    "    #Remove punctuations\n",
    "    lemmaToken = [token for token in lemmaToken if token not in string.punctuation]\n",
    "\n",
    "    lemmaText = ' '.join(lemmaToken)\n",
    "    return lemmaText"
   ]
  },
  {
   "cell_type": "markdown",
   "metadata": {},
   "source": [
    "#### Lemmatize features"
   ]
  },
  {
   "cell_type": "code",
   "execution_count": 10,
   "metadata": {},
   "outputs": [],
   "source": [
    "features = features.apply(lemmatizer)"
   ]
  },
  {
   "cell_type": "code",
   "execution_count": 11,
   "metadata": {},
   "outputs": [
    {
     "data": {
      "text/plain": [
       "0    practice number year always found excellent ho...\n",
       "1    patient practice many year always found helpfu...\n",
       "2    visited gp resistant hypertension great appoin...\n",
       "3    contacted surgery telephone non urgent appoint...\n",
       "4    great respect staff fishermead medical centre ...\n",
       "Name: comment, dtype: object"
      ]
     },
     "execution_count": 11,
     "metadata": {},
     "output_type": "execute_result"
    }
   ],
   "source": [
    "features.head()"
   ]
  },
  {
   "cell_type": "markdown",
   "metadata": {},
   "source": [
    "### Train, Test, Split ('comment' column only)"
   ]
  },
  {
   "cell_type": "code",
   "execution_count": 12,
   "metadata": {},
   "outputs": [],
   "source": [
    "from sklearn.model_selection import train_test_split\n",
    "\n",
    "x_train, x_test, y_train, y_test = train_test_split(features, labels, test_size=0.2, random_state=42)"
   ]
  },
  {
   "cell_type": "markdown",
   "metadata": {},
   "source": [
    "### Training the Model using TF-IDF and logistic regression"
   ]
  },
  {
   "cell_type": "code",
   "execution_count": 13,
   "metadata": {},
   "outputs": [
    {
     "name": "stdout",
     "output_type": "stream",
     "text": [
      "Accuracy:  0.9270438221289645\n",
      "Confusion Matrix:\n",
      " [[4613    0  143]\n",
      " [ 423   49  184]\n",
      " [ 154    0 6825]]\n"
     ]
    }
   ],
   "source": [
    "from sklearn.feature_extraction.text import TfidfVectorizer\n",
    "from sklearn.linear_model import LogisticRegression\n",
    "from sklearn.metrics import accuracy_score, confusion_matrix\n",
    "from sklearn.pipeline import make_pipeline\n",
    "\n",
    "#Preprocess the text with TFIDF vectorizer\n",
    "#Train the model using Logistic Regression\n",
    "model = make_pipeline(TfidfVectorizer(), LogisticRegression(max_iter=1000))\n",
    "model.fit(x_test, y_test)\n",
    "\n",
    "#Predict with model on test data\n",
    "y_pred = model.predict(x_test)\n",
    "\n",
    "#Evaluate model performance\n",
    "accuracy = accuracy_score(y_test, y_pred)\n",
    "print(\"Accuracy: \", accuracy)\n",
    "\n",
    "#Confusion Matrix\n",
    "confMatrix = confusion_matrix(y_test, y_pred)\n",
    "print(\"Confusion Matrix:\\n\", confMatrix)\n"
   ]
  },
  {
   "cell_type": "markdown",
   "metadata": {},
   "source": [
    "Low score for 0 class (neutral, rating 3). Data for 0 class may be too little result in such a low score. i.e. not enough data to train."
   ]
  },
  {
   "cell_type": "markdown",
   "metadata": {},
   "source": [
    "Rating 3 has only 5.3% of data.\n",
    "Drop ratings that are 3 as it is too little data to be meaningful and poor performance."
   ]
  },
  {
   "cell_type": "markdown",
   "metadata": {},
   "source": [
    "### Drop rows that have ratings that are 3"
   ]
  },
  {
   "cell_type": "code",
   "execution_count": 14,
   "metadata": {},
   "outputs": [
    {
     "data": {
      "text/plain": [
       "sentiment\n",
       " 1    34748\n",
       "-1    23921\n",
       "Name: count, dtype: int64"
      ]
     },
     "execution_count": 14,
     "metadata": {},
     "output_type": "execute_result"
    }
   ],
   "source": [
    "df_drop0 = df[df['sentiment']!=0]\n",
    "df_drop0['sentiment'].value_counts()"
   ]
  },
  {
   "cell_type": "markdown",
   "metadata": {},
   "source": [
    "### Features and labels without sentiments 0"
   ]
  },
  {
   "cell_type": "code",
   "execution_count": 15,
   "metadata": {},
   "outputs": [],
   "source": [
    "featuresNoZero = df_drop0['comment']\n",
    "labelsNoZero = df_drop0['sentiment']"
   ]
  },
  {
   "cell_type": "code",
   "execution_count": 16,
   "metadata": {},
   "outputs": [
    {
     "data": {
      "text/plain": [
       "1    I have been a patient at this practice for man...\n",
       "2    Visited my gp, over resistant hypertension. Gr...\n",
       "3    I contacted the surgery by telephone for a non...\n",
       "4    I have great respect for the staff at Fisherme...\n",
       "5    when I tried to register to go on doctors list...\n",
       "Name: comment, dtype: object"
      ]
     },
     "execution_count": 16,
     "metadata": {},
     "output_type": "execute_result"
    }
   ],
   "source": [
    "featuresNoZero.head()"
   ]
  },
  {
   "cell_type": "code",
   "execution_count": 17,
   "metadata": {},
   "outputs": [
    {
     "data": {
      "text/plain": [
       "1    1\n",
       "2   -1\n",
       "3    1\n",
       "4    1\n",
       "5   -1\n",
       "Name: sentiment, dtype: int64"
      ]
     },
     "execution_count": 17,
     "metadata": {},
     "output_type": "execute_result"
    }
   ],
   "source": [
    "labelsNoZero.head()"
   ]
  },
  {
   "cell_type": "markdown",
   "metadata": {},
   "source": [
    "#### Lemmatize featureNoZero"
   ]
  },
  {
   "cell_type": "code",
   "execution_count": 18,
   "metadata": {},
   "outputs": [],
   "source": [
    "featuresNoZero= featuresNoZero.apply(lemmatizer)"
   ]
  },
  {
   "cell_type": "code",
   "execution_count": 19,
   "metadata": {},
   "outputs": [
    {
     "data": {
      "text/plain": [
       "1    patient practice many year always found helpfu...\n",
       "2    visited gp resistant hypertension great appoin...\n",
       "3    contacted surgery telephone non urgent appoint...\n",
       "4    great respect staff fishermead medical centre ...\n",
       "5    tried register go doctor list told catchment a...\n",
       "Name: comment, dtype: object"
      ]
     },
     "execution_count": 19,
     "metadata": {},
     "output_type": "execute_result"
    }
   ],
   "source": [
    "featuresNoZero.head()"
   ]
  },
  {
   "cell_type": "markdown",
   "metadata": {},
   "source": [
    "### Train, Test, Split features and labels(no zero)"
   ]
  },
  {
   "cell_type": "code",
   "execution_count": 20,
   "metadata": {},
   "outputs": [],
   "source": [
    "x_trainN, x_testN, y_trainN, y_testN = train_test_split(featuresNoZero, labelsNoZero, test_size=0.2, random_state=42)"
   ]
  },
  {
   "cell_type": "markdown",
   "metadata": {},
   "source": [
    "### Train the model"
   ]
  },
  {
   "cell_type": "code",
   "execution_count": 21,
   "metadata": {},
   "outputs": [
    {
     "name": "stdout",
     "output_type": "stream",
     "text": [
      "Accuracy:  0.9590080109084711\n",
      "Confusion Matrix:\n",
      " [[4473  237]\n",
      " [ 244 6780]]\n"
     ]
    }
   ],
   "source": [
    "#TfidfVectorizer process and train using Logistic Regression\n",
    "modelN = make_pipeline(TfidfVectorizer(),LogisticRegression(max_iter=1000))\n",
    "\n",
    "#Train the model\n",
    "modelN.fit(x_trainN, y_trainN)\n",
    "\n",
    "#Predict with model on test data\n",
    "y_predN = modelN.predict(x_testN)\n",
    "\n",
    "#Evaluate model performance\n",
    "accuracyN = accuracy_score(y_testN, y_predN)\n",
    "print(\"Accuracy: \", accuracyN)\n",
    "\n",
    "#Confusion Matrix\n",
    "confMatrixN = confusion_matrix(y_testN, y_predN)\n",
    "print(\"Confusion Matrix:\\n\", confMatrixN)\n"
   ]
  },
  {
   "cell_type": "markdown",
   "metadata": {},
   "source": [
    "### Export the model"
   ]
  },
  {
   "cell_type": "code",
   "execution_count": 22,
   "metadata": {},
   "outputs": [
    {
     "data": {
      "text/plain": [
       "\"\\nwith open('commentSentiment.pkl', 'wb') as file:\\n    pickle.dump(modelN, file)\\n\""
      ]
     },
     "execution_count": 22,
     "metadata": {},
     "output_type": "execute_result"
    }
   ],
   "source": [
    "import pickle\n",
    "'''\n",
    "with open('commentSentiment.pkl', 'wb') as file:\n",
    "    pickle.dump(modelN, file)\n",
    "'''"
   ]
  },
  {
   "cell_type": "markdown",
   "metadata": {},
   "source": [
    "### Load the model"
   ]
  },
  {
   "cell_type": "code",
   "execution_count": 23,
   "metadata": {},
   "outputs": [],
   "source": [
    "loaded_model = pickle.load(open('commentSentiment.pkl', 'rb'))"
   ]
  },
  {
   "cell_type": "markdown",
   "metadata": {},
   "source": [
    "### Getting Keywords from comments"
   ]
  },
  {
   "cell_type": "code",
   "execution_count": 24,
   "metadata": {},
   "outputs": [
    {
     "data": {
      "text/plain": [
       "0    practice number year always found excellent ho...\n",
       "1    patient practice many year always found helpfu...\n",
       "2    visited gp resistant hypertension great appoin...\n",
       "3    contacted surgery telephone non urgent appoint...\n",
       "4    great respect staff fishermead medical centre ...\n",
       "5    tried register go doctor list told catchment a...\n",
       "6    staff rude talk cant get appointment love mone...\n",
       "7    contact two member staff practice last week on...\n",
       "8    ringing 2 day trying sort medication due 2 day...\n",
       "9    queued outside practice 7:30 told appointment ...\n",
       "Name: comment, dtype: object"
      ]
     },
     "execution_count": 24,
     "metadata": {},
     "output_type": "execute_result"
    }
   ],
   "source": [
    "featuresClean = features.apply(lemmatizer)\n",
    "featuresClean.head(10)"
   ]
  },
  {
   "cell_type": "markdown",
   "metadata": {},
   "source": [
    "### Text Featurization"
   ]
  },
  {
   "cell_type": "code",
   "execution_count": 27,
   "metadata": {},
   "outputs": [],
   "source": [
    "from sklearn.feature_extraction.text import TfidfVectorizer\n",
    "\n",
    "tfidf = TfidfVectorizer()\n",
    "\n",
    "# convert to NumPy array\n",
    "tfidf_vecs_model = tfidf.fit(featuresClean)\n",
    "\n"
   ]
  },
  {
   "cell_type": "markdown",
   "metadata": {},
   "source": [
    "### Export tfidfVect Mode"
   ]
  },
  {
   "cell_type": "code",
   "execution_count": 28,
   "metadata": {},
   "outputs": [],
   "source": [
    "import pickle\n",
    "\n",
    "with open('tfidfVec.pkl', 'wb') as file:\n",
    "    pickle.dump(tfidf_vecs_model, file)\n"
   ]
  },
  {
   "cell_type": "code",
   "execution_count": 1,
   "metadata": {},
   "outputs": [],
   "source": [
    "import pickle\n",
    "loaded_model =  pickle.load(open('tfidfVec.pkl', 'rb'))"
   ]
  },
  {
   "cell_type": "markdown",
   "metadata": {},
   "source": [
    "### TODO:\n",
    "1. Code a flask server to serve the model\n",
    "2. Test the model with flask server\n",
    "3. Host on AWS??"
   ]
  },
  {
   "cell_type": "markdown",
   "metadata": {},
   "source": []
  }
 ],
 "metadata": {
  "kernelspec": {
   "display_name": "Python 3",
   "language": "python",
   "name": "python3"
  },
  "language_info": {
   "codemirror_mode": {
    "name": "ipython",
    "version": 3
   },
   "file_extension": ".py",
   "mimetype": "text/x-python",
   "name": "python",
   "nbconvert_exporter": "python",
   "pygments_lexer": "ipython3",
   "version": "3.9.18"
  }
 },
 "nbformat": 4,
 "nbformat_minor": 2
}
