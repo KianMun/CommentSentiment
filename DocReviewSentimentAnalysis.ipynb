{
 "cells": [
  {
   "cell_type": "markdown",
   "metadata": {},
   "source": [
    "##  England NHS GP Reviews Sentiment Analysis\n",
    "source: https://huggingface.co/datasets/janduplessis886/england-nhs-gp-reviews/viewer/default/train"
   ]
  },
  {
   "cell_type": "code",
   "execution_count": 11,
   "metadata": {},
   "outputs": [
    {
     "data": {
      "text/html": [
       "<div>\n",
       "<style scoped>\n",
       "    .dataframe tbody tr th:only-of-type {\n",
       "        vertical-align: middle;\n",
       "    }\n",
       "\n",
       "    .dataframe tbody tr th {\n",
       "        vertical-align: top;\n",
       "    }\n",
       "\n",
       "    .dataframe thead th {\n",
       "        text-align: right;\n",
       "    }\n",
       "</style>\n",
       "<table border=\"1\" class=\"dataframe\">\n",
       "  <thead>\n",
       "    <tr style=\"text-align: right;\">\n",
       "      <th></th>\n",
       "      <th>ode</th>\n",
       "      <th>surgeryname</th>\n",
       "      <th>url</th>\n",
       "      <th>title</th>\n",
       "      <th>star_rating</th>\n",
       "      <th>comment</th>\n",
       "      <th>visited_date</th>\n",
       "    </tr>\n",
       "  </thead>\n",
       "  <tbody>\n",
       "    <tr>\n",
       "      <th>0</th>\n",
       "      <td>E81050</td>\n",
       "      <td>asplands-medical-centre</td>\n",
       "      <td>https://www.nhs.uk/services/gp-surgery/aspland...</td>\n",
       "      <td>What's changed?</td>\n",
       "      <td>3</td>\n",
       "      <td>Have been with this practice for a number of y...</td>\n",
       "      <td>August 2022</td>\n",
       "    </tr>\n",
       "    <tr>\n",
       "      <th>1</th>\n",
       "      <td>E81050</td>\n",
       "      <td>asplands-medical-centre</td>\n",
       "      <td>https://www.nhs.uk/services/gp-surgery/aspland...</td>\n",
       "      <td>Woburn surgery</td>\n",
       "      <td>5</td>\n",
       "      <td>I have been a patient at this practice for man...</td>\n",
       "      <td>July 2022</td>\n",
       "    </tr>\n",
       "    <tr>\n",
       "      <th>2</th>\n",
       "      <td>E81050</td>\n",
       "      <td>asplands-medical-centre</td>\n",
       "      <td>https://www.nhs.uk/services/gp-surgery/aspland...</td>\n",
       "      <td>Don't waste your time GPs never available</td>\n",
       "      <td>1</td>\n",
       "      <td>Visited my gp, over resistant hypertension. Gr...</td>\n",
       "      <td>June 2022</td>\n",
       "    </tr>\n",
       "    <tr>\n",
       "      <th>3</th>\n",
       "      <td>E81050</td>\n",
       "      <td>asplands-medical-centre</td>\n",
       "      <td>https://www.nhs.uk/services/gp-surgery/aspland...</td>\n",
       "      <td>Great practice</td>\n",
       "      <td>5</td>\n",
       "      <td>I contacted the surgery by telephone for a non...</td>\n",
       "      <td>June 2022</td>\n",
       "    </tr>\n",
       "    <tr>\n",
       "      <th>4</th>\n",
       "      <td>K82064</td>\n",
       "      <td>fishermead-medical-centre</td>\n",
       "      <td>https://www.nhs.uk/services/gp-surgery/fisherm...</td>\n",
       "      <td>Welcoming and supportive</td>\n",
       "      <td>5</td>\n",
       "      <td>I have great respect for the staff at Fisherme...</td>\n",
       "      <td>July 2023</td>\n",
       "    </tr>\n",
       "  </tbody>\n",
       "</table>\n",
       "</div>"
      ],
      "text/plain": [
       "      ode                surgeryname  \\\n",
       "0  E81050    asplands-medical-centre   \n",
       "1  E81050    asplands-medical-centre   \n",
       "2  E81050    asplands-medical-centre   \n",
       "3  E81050    asplands-medical-centre   \n",
       "4  K82064  fishermead-medical-centre   \n",
       "\n",
       "                                                 url  \\\n",
       "0  https://www.nhs.uk/services/gp-surgery/aspland...   \n",
       "1  https://www.nhs.uk/services/gp-surgery/aspland...   \n",
       "2  https://www.nhs.uk/services/gp-surgery/aspland...   \n",
       "3  https://www.nhs.uk/services/gp-surgery/aspland...   \n",
       "4  https://www.nhs.uk/services/gp-surgery/fisherm...   \n",
       "\n",
       "                                       title  star_rating  \\\n",
       "0                            What's changed?            3   \n",
       "1                             Woburn surgery            5   \n",
       "2  Don't waste your time GPs never available            1   \n",
       "3                             Great practice            5   \n",
       "4                   Welcoming and supportive            5   \n",
       "\n",
       "                                             comment visited_date  \n",
       "0  Have been with this practice for a number of y...  August 2022  \n",
       "1  I have been a patient at this practice for man...    July 2022  \n",
       "2  Visited my gp, over resistant hypertension. Gr...    June 2022  \n",
       "3  I contacted the surgery by telephone for a non...    June 2022  \n",
       "4  I have great respect for the staff at Fisherme...    July 2023  "
      ]
     },
     "execution_count": 11,
     "metadata": {},
     "output_type": "execute_result"
    }
   ],
   "source": [
    "import pandas as pd\n",
    "\n",
    "df = pd.read_csv('england-nhs-gp-reviews.csv')\n",
    "df.head()"
   ]
  },
  {
   "cell_type": "code",
   "execution_count": 2,
   "metadata": {},
   "outputs": [
    {
     "name": "stdout",
     "output_type": "stream",
     "text": [
      "Number of rows:  61955 \n",
      "Number of Columns:  7\n"
     ]
    }
   ],
   "source": [
    "print(\"Number of rows: \", df.shape[0],\"\\nNumber of Columns: \", df.shape[1])"
   ]
  },
  {
   "cell_type": "markdown",
   "metadata": {},
   "source": [
    "#### Check for missing data"
   ]
  },
  {
   "cell_type": "code",
   "execution_count": 3,
   "metadata": {},
   "outputs": [
    {
     "name": "stdout",
     "output_type": "stream",
     "text": [
      "<class 'pandas.core.frame.DataFrame'>\n",
      "RangeIndex: 61955 entries, 0 to 61954\n",
      "Data columns (total 7 columns):\n",
      " #   Column        Non-Null Count  Dtype \n",
      "---  ------        --------------  ----- \n",
      " 0   ode           61955 non-null  object\n",
      " 1   surgeryname   61955 non-null  object\n",
      " 2   url           61955 non-null  object\n",
      " 3   title         61955 non-null  object\n",
      " 4   star_rating   61955 non-null  int64 \n",
      " 5   comment       61955 non-null  object\n",
      " 6   visited_date  61955 non-null  object\n",
      "dtypes: int64(1), object(6)\n",
      "memory usage: 3.3+ MB\n"
     ]
    }
   ],
   "source": [
    "df.info()"
   ]
  },
  {
   "cell_type": "markdown",
   "metadata": {},
   "source": [
    "No missing data as all 61955 rows are non-null for all columns"
   ]
  },
  {
   "cell_type": "markdown",
   "metadata": {},
   "source": [
    "### Features (comment)"
   ]
  },
  {
   "cell_type": "code",
   "execution_count": 6,
   "metadata": {},
   "outputs": [],
   "source": [
    "features = df['comment']\n"
   ]
  },
  {
   "cell_type": "code",
   "execution_count": 7,
   "metadata": {},
   "outputs": [
    {
     "data": {
      "text/plain": [
       "0    Have been with this practice for a number of y...\n",
       "1    I have been a patient at this practice for man...\n",
       "2    Visited my gp, over resistant hypertension. Gr...\n",
       "3    I contacted the surgery by telephone for a non...\n",
       "4    I have great respect for the staff at Fisherme...\n",
       "Name: comment, dtype: object"
      ]
     },
     "execution_count": 7,
     "metadata": {},
     "output_type": "execute_result"
    }
   ],
   "source": [
    "features.head()"
   ]
  },
  {
   "cell_type": "markdown",
   "metadata": {},
   "source": [
    "### WordNetLemmatizer function"
   ]
  },
  {
   "cell_type": "code",
   "execution_count": 5,
   "metadata": {},
   "outputs": [
    {
     "name": "stderr",
     "output_type": "stream",
     "text": [
      "[nltk_data] Downloading package stopwords to\n",
      "[nltk_data]     C:\\Users\\kianm\\AppData\\Roaming\\nltk_data...\n",
      "[nltk_data]   Package stopwords is already up-to-date!\n",
      "[nltk_data] Downloading package wordnet to\n",
      "[nltk_data]     C:\\Users\\kianm\\AppData\\Roaming\\nltk_data...\n",
      "[nltk_data]   Package wordnet is already up-to-date!\n"
     ]
    }
   ],
   "source": [
    "import nltk\n",
    "nltk.download('stopwords')\n",
    "nltk.download('wordnet')\n",
    "\n",
    "import string\n",
    "\n",
    "from nltk.stem import WordNetLemmatizer\n",
    "from nltk.corpus import stopwords\n",
    "from nltk import word_tokenize\n",
    "\n",
    "def lemmatizer(text):\n",
    "    lemmatizer = WordNetLemmatizer()\n",
    "    stopWords = stopwords.words('english')\n",
    "    #Tokenize\n",
    "    tokens = word_tokenize(text)\n",
    "    #Lemmatize\n",
    "    lemmaToken = [lemmatizer.lemmatize(token.lower()) for token in tokens if token.lower() not in stopWords]\n",
    "    #Remove punctuations\n",
    "    lemmaToken = [token for token in lemmaToken if token not in string.punctuation]\n",
    "\n",
    "    lemmaText = ' '.join(lemmaToken)\n",
    "    return lemmaText"
   ]
  },
  {
   "cell_type": "markdown",
   "metadata": {},
   "source": [
    "#### Lemmatize features"
   ]
  },
  {
   "cell_type": "code",
   "execution_count": 10,
   "metadata": {},
   "outputs": [],
   "source": [
    "features = features.apply(lemmatizer)"
   ]
  },
  {
   "cell_type": "code",
   "execution_count": 11,
   "metadata": {},
   "outputs": [
    {
     "data": {
      "text/plain": [
       "0    practice number year always found excellent ho...\n",
       "1    patient practice many year always found helpfu...\n",
       "2    visited gp resistant hypertension great appoin...\n",
       "3    contacted surgery telephone non urgent appoint...\n",
       "4    great respect staff fishermead medical centre ...\n",
       "Name: comment, dtype: object"
      ]
     },
     "execution_count": 11,
     "metadata": {},
     "output_type": "execute_result"
    }
   ],
   "source": [
    "features.head()"
   ]
  },
  {
   "cell_type": "markdown",
   "metadata": {},
   "source": [
    "### Train the model"
   ]
  },
  {
   "cell_type": "markdown",
   "metadata": {},
   "source": [
    "### Getting Keywords from comments"
   ]
  },
  {
   "cell_type": "code",
   "execution_count": 24,
   "metadata": {},
   "outputs": [
    {
     "data": {
      "text/plain": [
       "0    practice number year always found excellent ho...\n",
       "1    patient practice many year always found helpfu...\n",
       "2    visited gp resistant hypertension great appoin...\n",
       "3    contacted surgery telephone non urgent appoint...\n",
       "4    great respect staff fishermead medical centre ...\n",
       "5    tried register go doctor list told catchment a...\n",
       "6    staff rude talk cant get appointment love mone...\n",
       "7    contact two member staff practice last week on...\n",
       "8    ringing 2 day trying sort medication due 2 day...\n",
       "9    queued outside practice 7:30 told appointment ...\n",
       "Name: comment, dtype: object"
      ]
     },
     "execution_count": 24,
     "metadata": {},
     "output_type": "execute_result"
    }
   ],
   "source": [
    "featuresClean = features.apply(lemmatizer)\n",
    "featuresClean.head(10)"
   ]
  },
  {
   "cell_type": "markdown",
   "metadata": {},
   "source": [
    "### Text Featurization"
   ]
  },
  {
   "cell_type": "code",
   "execution_count": 27,
   "metadata": {},
   "outputs": [],
   "source": [
    "from sklearn.feature_extraction.text import TfidfVectorizer\n",
    "\n",
    "tfidf = TfidfVectorizer()\n",
    "\n",
    "# convert to NumPy array\n",
    "tfidf_vecs_model = tfidf.fit(featuresClean)\n",
    "\n"
   ]
  },
  {
   "cell_type": "markdown",
   "metadata": {},
   "source": [
    "### Export tfidfVect Mode"
   ]
  },
  {
   "cell_type": "code",
   "execution_count": 28,
   "metadata": {},
   "outputs": [],
   "source": [
    "import pickle\n",
    "\n",
    "with open('tfidfVec.pkl', 'wb') as file:\n",
    "    pickle.dump(tfidf_vecs_model, file)\n"
   ]
  },
  {
   "cell_type": "code",
   "execution_count": 1,
   "metadata": {},
   "outputs": [],
   "source": [
    "import pickle\n",
    "loaded_model =  pickle.load(open('tfidfVec.pkl', 'rb'))"
   ]
  },
  {
   "cell_type": "markdown",
   "metadata": {},
   "source": [
    "#### Function for loading model and fiting model to cleaned feedback "
   ]
  },
  {
   "cell_type": "code",
   "execution_count": 9,
   "metadata": {},
   "outputs": [],
   "source": [
    "def load_model(model_path):\n",
    "    with open(model_path, \"rb\") as file:\n",
    "        model = pickle.load(file)\n",
    "    return model\n",
    "\n",
    "def keywords_df(preprocessedData, model):\n",
    "    tfidf_vecs = model.transform([preprocessedData]).toarray()\n",
    "    df_columns = model.get_feature_names_out()\n",
    "    df = pd.DataFrame(data=tfidf_vecs, columns=df_columns)\n",
    "    return df"
   ]
  },
  {
   "cell_type": "markdown",
   "metadata": {},
   "source": [
    "#### Testing the model"
   ]
  },
  {
   "cell_type": "code",
   "execution_count": 13,
   "metadata": {},
   "outputs": [
    {
     "data": {
      "text/html": [
       "<div>\n",
       "<style scoped>\n",
       "    .dataframe tbody tr th:only-of-type {\n",
       "        vertical-align: middle;\n",
       "    }\n",
       "\n",
       "    .dataframe tbody tr th {\n",
       "        vertical-align: top;\n",
       "    }\n",
       "\n",
       "    .dataframe thead th {\n",
       "        text-align: right;\n",
       "    }\n",
       "</style>\n",
       "<table border=\"1\" class=\"dataframe\">\n",
       "  <thead>\n",
       "    <tr style=\"text-align: right;\">\n",
       "      <th></th>\n",
       "      <th>00</th>\n",
       "      <th>000</th>\n",
       "      <th>00a</th>\n",
       "      <th>00after</th>\n",
       "      <th>00am</th>\n",
       "      <th>00an</th>\n",
       "      <th>00h</th>\n",
       "      <th>00hrs</th>\n",
       "      <th>00p</th>\n",
       "      <th>00pm</th>\n",
       "      <th>...</th>\n",
       "      <th>zostavax</th>\n",
       "      <th>àgreed</th>\n",
       "      <th>àny</th>\n",
       "      <th>às</th>\n",
       "      <th>àssits</th>\n",
       "      <th>ààaaassssssssssssssssssssssssssssssssssssssssssddddddddddddddfdffffff</th>\n",
       "      <th>çomputer</th>\n",
       "      <th>în</th>\n",
       "      <th>îs</th>\n",
       "      <th>ın</th>\n",
       "    </tr>\n",
       "  </thead>\n",
       "  <tbody>\n",
       "    <tr>\n",
       "      <th>0</th>\n",
       "      <td>0.0</td>\n",
       "      <td>0.0</td>\n",
       "      <td>0.0</td>\n",
       "      <td>0.0</td>\n",
       "      <td>0.0</td>\n",
       "      <td>0.0</td>\n",
       "      <td>0.0</td>\n",
       "      <td>0.0</td>\n",
       "      <td>0.0</td>\n",
       "      <td>0.0</td>\n",
       "      <td>...</td>\n",
       "      <td>0.0</td>\n",
       "      <td>0.0</td>\n",
       "      <td>0.0</td>\n",
       "      <td>0.0</td>\n",
       "      <td>0.0</td>\n",
       "      <td>0.0</td>\n",
       "      <td>0.0</td>\n",
       "      <td>0.0</td>\n",
       "      <td>0.0</td>\n",
       "      <td>0.0</td>\n",
       "    </tr>\n",
       "  </tbody>\n",
       "</table>\n",
       "<p>1 rows × 26521 columns</p>\n",
       "</div>"
      ],
      "text/plain": [
       "    00  000  00a  00after  00am  00an  00h  00hrs  00p  00pm  ...  zostavax  \\\n",
       "0  0.0  0.0  0.0      0.0   0.0   0.0  0.0    0.0  0.0   0.0  ...       0.0   \n",
       "\n",
       "   àgreed  àny   às  àssits  \\\n",
       "0     0.0  0.0  0.0     0.0   \n",
       "\n",
       "   ààaaassssssssssssssssssssssssssssssssssssssssssddddddddddddddfdffffff  \\\n",
       "0                                                0.0                       \n",
       "\n",
       "   çomputer   în   îs   ın  \n",
       "0       0.0  0.0  0.0  0.0  \n",
       "\n",
       "[1 rows x 26521 columns]"
      ]
     },
     "execution_count": 13,
     "metadata": {},
     "output_type": "execute_result"
    }
   ],
   "source": [
    "feedback = \"This service was terrible, but the doctor was professional and caring. I wish they could have more consistent service throughtout the entire staff\"\n",
    "clean_fdbk = lemmatizer(feedback)\n",
    "model = load_model('tfidfVec.pkl')\n",
    "df_keywords = keywords_df(clean_fdbk, model)\n",
    "df_keywords.head(10)"
   ]
  },
  {
   "cell_type": "code",
   "execution_count": 14,
   "metadata": {},
   "outputs": [
    {
     "data": {
      "text/plain": [
       "(1, 26521)"
      ]
     },
     "execution_count": 14,
     "metadata": {},
     "output_type": "execute_result"
    }
   ],
   "source": [
    "df_keywords.shape"
   ]
  },
  {
   "cell_type": "markdown",
   "metadata": {},
   "source": [
    "#### Take the top 10 keywords by score"
   ]
  },
  {
   "cell_type": "code",
   "execution_count": 15,
   "metadata": {},
   "outputs": [],
   "source": [
    "keywords_dict = df_keywords.max().nlargest(10).to_dict()"
   ]
  },
  {
   "cell_type": "code",
   "execution_count": 16,
   "metadata": {},
   "outputs": [
    {
     "data": {
      "text/plain": [
       "{'consistent': 0.4930864880830275,\n",
       " 'entire': 0.42060072286320466,\n",
       " 'wish': 0.36111666796518493,\n",
       " 'terrible': 0.35491226769692136,\n",
       " 'service': 0.3369782987540155,\n",
       " 'caring': 0.2559412825312889,\n",
       " 'professional': 0.23501236886932628,\n",
       " 'could': 0.21264279908679223,\n",
       " 'staff': 0.15713095065391997,\n",
       " 'doctor': 0.13926434733804982}"
      ]
     },
     "execution_count": 16,
     "metadata": {},
     "output_type": "execute_result"
    }
   ],
   "source": [
    "keywords_dict"
   ]
  },
  {
   "cell_type": "markdown",
   "metadata": {},
   "source": [
    "#### Get only the top 10 keywords without the score"
   ]
  },
  {
   "cell_type": "code",
   "execution_count": 17,
   "metadata": {},
   "outputs": [
    {
     "data": {
      "text/plain": [
       "['consistent',\n",
       " 'entire',\n",
       " 'wish',\n",
       " 'terrible',\n",
       " 'service',\n",
       " 'caring',\n",
       " 'professional',\n",
       " 'could',\n",
       " 'staff',\n",
       " 'doctor']"
      ]
     },
     "execution_count": 17,
     "metadata": {},
     "output_type": "execute_result"
    }
   ],
   "source": [
    "keywords_lst = list(keywords_dict.keys())\n",
    "keywords_lst"
   ]
  },
  {
   "cell_type": "markdown",
   "metadata": {},
   "source": []
  }
 ],
 "metadata": {
  "kernelspec": {
   "display_name": "Python 3",
   "language": "python",
   "name": "python3"
  },
  "language_info": {
   "codemirror_mode": {
    "name": "ipython",
    "version": 3
   },
   "file_extension": ".py",
   "mimetype": "text/x-python",
   "name": "python",
   "nbconvert_exporter": "python",
   "pygments_lexer": "ipython3",
   "version": "3.9.18"
  }
 },
 "nbformat": 4,
 "nbformat_minor": 2
}
